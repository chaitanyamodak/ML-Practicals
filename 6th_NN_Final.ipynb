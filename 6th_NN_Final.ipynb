{
  "nbformat": 4,
  "nbformat_minor": 0,
  "metadata": {
    "colab": {
      "provenance": []
    },
    "kernelspec": {
      "name": "python3",
      "display_name": "Python 3"
    },
    "language_info": {
      "name": "python"
    }
  },
  "cells": [
    {
      "cell_type": "markdown",
      "source": [],
      "metadata": {
        "id": "2akf_FHLRi-H"
      }
    },
    {
      "cell_type": "markdown",
      "source": [
        "Creating & Visualizing Neural Network for the given data."
      ],
      "metadata": {
        "id": "qjCrShj5mqez"
      }
    },
    {
      "cell_type": "code",
      "execution_count": null,
      "metadata": {
        "colab": {
          "base_uri": "https://localhost:8080/"
        },
        "id": "o_47OBIbWLOn",
        "outputId": "c0a0f72f-fcd7-4a5d-a4be-ee62a4061f03"
      },
      "outputs": [
        {
          "output_type": "stream",
          "name": "stdout",
          "text": [
            "TensorFlow 1.x selected.\n"
          ]
        }
      ],
      "source": [
        "%tensorflow_version 1.x"
      ]
    },
    {
      "cell_type": "code",
      "source": [
        "import tensorflow as tf\n",
        "import numpy as np\n",
        "import pandas as pd\n",
        "\n",
        "\n",
        "import matplotlib.pyplot as plt\n",
        "import warnings"
      ],
      "metadata": {
        "id": "XJ6C-XFFWQCW"
      },
      "execution_count": null,
      "outputs": []
    },
    {
      "cell_type": "code",
      "source": [
        "!pip3 install ann_visualizer"
      ],
      "metadata": {
        "colab": {
          "base_uri": "https://localhost:8080/"
        },
        "id": "se1Mg7udWRqh",
        "outputId": "8fa8dbb5-fd67-4e92-fae5-878e64dd0e2a"
      },
      "execution_count": null,
      "outputs": [
        {
          "output_type": "stream",
          "name": "stdout",
          "text": [
            "Collecting ann_visualizer\n",
            "  Downloading ann_visualizer-2.5.tar.gz (4.7 kB)\n",
            "Building wheels for collected packages: ann-visualizer\n",
            "  Building wheel for ann-visualizer (setup.py) ... \u001b[?25l\u001b[?25hdone\n",
            "  Created wheel for ann-visualizer: filename=ann_visualizer-2.5-py3-none-any.whl size=4168 sha256=e295f193f90b34d5e093669768a2605fdf149cd9c1706b22dd409db9a41fdef8\n",
            "  Stored in directory: /root/.cache/pip/wheels/1b/fc/58/2ab1c3b30350105929308becddda4fb59b1358e54f985e1f4a\n",
            "Successfully built ann-visualizer\n",
            "Installing collected packages: ann-visualizer\n",
            "Successfully installed ann-visualizer-2.5\n"
          ]
        }
      ]
    },
    {
      "cell_type": "code",
      "source": [
        "from ann_visualizer.visualize import ann_viz\n",
        "from graphviz import Source"
      ],
      "metadata": {
        "id": "_rB-5tlcWTmH"
      },
      "execution_count": null,
      "outputs": []
    },
    {
      "cell_type": "code",
      "source": [
        "from keras.models import Sequential\n",
        "from keras.layers import Dense"
      ],
      "metadata": {
        "colab": {
          "base_uri": "https://localhost:8080/"
        },
        "id": "RTO6HNZUWWHH",
        "outputId": "51b9be41-9e12-4605-a506-aa7f77ec4430"
      },
      "execution_count": null,
      "outputs": [
        {
          "output_type": "stream",
          "name": "stderr",
          "text": [
            "Using TensorFlow backend.\n"
          ]
        }
      ]
    },
    {
      "cell_type": "code",
      "source": [
        "training_data = np.array([[0,0],[0,1],[1,0],[1,1]], \"float32\")\n",
        "target_data = np.array([[0],[1],[1],[0]], \"float32\")"
      ],
      "metadata": {
        "id": "fhpoRkdKWX2M"
      },
      "execution_count": null,
      "outputs": []
    },
    {
      "cell_type": "code",
      "source": [
        "model = Sequential()\n",
        "\n",
        "model.add(Dense(4, input_dim=2, activation='sigmoid'))\n",
        "model.add(Dense(1, activation='sigmoid'))\n",
        "model.compile(loss='mean_squared_error', optimizer='adam', metrics=['accuracy'])"
      ],
      "metadata": {
        "colab": {
          "base_uri": "https://localhost:8080/"
        },
        "id": "XM1YtkJfWZqU",
        "outputId": "c430eb09-5882-4727-da29-793ac9dcbc1b"
      },
      "execution_count": null,
      "outputs": [
        {
          "output_type": "stream",
          "name": "stdout",
          "text": [
            "WARNING:tensorflow:From /tensorflow-1.15.2/python3.7/tensorflow_core/python/ops/resource_variable_ops.py:1630: calling BaseResourceVariable.__init__ (from tensorflow.python.ops.resource_variable_ops) with constraint is deprecated and will be removed in a future version.\n",
            "Instructions for updating:\n",
            "If using Keras pass *_constraint arguments to layers.\n"
          ]
        }
      ]
    },
    {
      "cell_type": "code",
      "source": [
        "ann_viz(model, title=\"Simple XOR Classifier\")"
      ],
      "metadata": {
        "id": "McY4S6ZSWb6Q"
      },
      "execution_count": null,
      "outputs": []
    },
    {
      "cell_type": "code",
      "source": [
        "graph_source = Source.from_file('network.gv')"
      ],
      "metadata": {
        "id": "fTQRwkVhWf2X"
      },
      "execution_count": null,
      "outputs": []
    },
    {
      "cell_type": "code",
      "source": [
        "graph_source"
      ],
      "metadata": {
        "colab": {
          "base_uri": "https://localhost:8080/",
          "height": 748
        },
        "id": "lZCbqKGsWihk",
        "outputId": "d26e3a39-6d7f-48a0-b6bd-94b26aa567b4"
      },
      "execution_count": null,
      "outputs": [
        {
          "output_type": "execute_result",
          "data": {
            "text/plain": [
              "<graphviz.files.Source at 0x7f969e55a1d0>"
            ],
            "image/svg+xml": "<?xml version=\"1.0\" encoding=\"UTF-8\" standalone=\"no\"?>\n<!DOCTYPE svg PUBLIC \"-//W3C//DTD SVG 1.1//EN\"\n \"http://www.w3.org/Graphics/SVG/1.1/DTD/svg11.dtd\">\n<!-- Generated by graphviz version 2.40.1 (20161225.0304)\n -->\n<!-- Title: g Pages: 1 -->\n<svg width=\"400pt\" height=\"545pt\"\n viewBox=\"0.00 0.00 400.00 545.00\" xmlns=\"http://www.w3.org/2000/svg\" xmlns:xlink=\"http://www.w3.org/1999/xlink\">\n<g id=\"graph0\" class=\"graph\" transform=\"scale(1 1) rotate(0) translate(4 541)\">\n<title>g</title>\n<polygon fill=\"#ffffff\" stroke=\"transparent\" points=\"-4,4 -4,-541 396,-541 396,4 -4,4\"/>\n<g id=\"clust1\" class=\"cluster\">\n<title>cluster_input</title>\n<polygon fill=\"none\" stroke=\"#ffffff\" points=\"116,-391 116,-529 276,-529 276,-391 116,-391\"/>\n<text text-anchor=\"middle\" x=\"196\" y=\"-513.8\" font-family=\"Times,serif\" font-size=\"14.00\" fill=\"#000000\">Simple XOR Classifier</text>\n<text text-anchor=\"middle\" x=\"196\" y=\"-450.8\" font-family=\"Times,serif\" font-size=\"14.00\" fill=\"#000000\">Input Layer</text>\n</g>\n<g id=\"clust2\" class=\"cluster\">\n<title>cluster_1</title>\n<polygon fill=\"none\" stroke=\"#ffffff\" points=\"8,-211 8,-263 384,-263 384,-211 8,-211\"/>\n</g>\n<g id=\"clust3\" class=\"cluster\">\n<title>cluster_output</title>\n<polygon fill=\"none\" stroke=\"#ffffff\" points=\"149,-8 149,-83 243,-83 243,-8 149,-8\"/>\n<text text-anchor=\"middle\" x=\"196\" y=\"-15.8\" font-family=\"Times,serif\" font-size=\"14.00\" fill=\"#000000\">Output Layer</text>\n</g>\n<!-- 1 -->\n<g id=\"node1\" class=\"node\">\n<title>1</title>\n<ellipse fill=\"#2ecc71\" stroke=\"#2ecc71\" cx=\"250\" cy=\"-417\" rx=\"18\" ry=\"18\"/>\n<text text-anchor=\"middle\" x=\"250\" y=\"-413.3\" font-family=\"Times,serif\" font-size=\"14.00\" fill=\"#2ecc71\">1</text>\n</g>\n<!-- 3 -->\n<g id=\"node3\" class=\"node\">\n<title>3</title>\n<ellipse fill=\"#3498db\" stroke=\"#3498db\" cx=\"358\" cy=\"-237\" rx=\"18\" ry=\"18\"/>\n<text text-anchor=\"middle\" x=\"358\" y=\"-233.3\" font-family=\"Times,serif\" font-size=\"14.00\" fill=\"#3498db\">3</text>\n</g>\n<!-- 1&#45;&gt;3 -->\n<g id=\"edge1\" class=\"edge\">\n<title>1&#45;&gt;3</title>\n<path fill=\"none\" stroke=\"#707070\" d=\"M259.3954,-401.3411C279.872,-367.2134 328.3168,-286.472 348.7033,-252.4946\"/>\n</g>\n<!-- 4 -->\n<g id=\"node4\" class=\"node\">\n<title>4</title>\n<ellipse fill=\"#3498db\" stroke=\"#3498db\" cx=\"250\" cy=\"-237\" rx=\"18\" ry=\"18\"/>\n<text text-anchor=\"middle\" x=\"250\" y=\"-233.3\" font-family=\"Times,serif\" font-size=\"14.00\" fill=\"#3498db\">4</text>\n</g>\n<!-- 1&#45;&gt;4 -->\n<g id=\"edge3\" class=\"edge\">\n<title>1&#45;&gt;4</title>\n<path fill=\"none\" stroke=\"#707070\" d=\"M250,-398.7501C250,-364.161 250,-289.4493 250,-255.0306\"/>\n</g>\n<!-- 5 -->\n<g id=\"node5\" class=\"node\">\n<title>5</title>\n<ellipse fill=\"#3498db\" stroke=\"#3498db\" cx=\"142\" cy=\"-237\" rx=\"18\" ry=\"18\"/>\n<text text-anchor=\"middle\" x=\"142\" y=\"-233.3\" font-family=\"Times,serif\" font-size=\"14.00\" fill=\"#3498db\">5</text>\n</g>\n<!-- 1&#45;&gt;5 -->\n<g id=\"edge5\" class=\"edge\">\n<title>1&#45;&gt;5</title>\n<path fill=\"none\" stroke=\"#707070\" d=\"M240.6046,-401.3411C220.128,-367.2134 171.6832,-286.472 151.2967,-252.4946\"/>\n</g>\n<!-- 6 -->\n<g id=\"node6\" class=\"node\">\n<title>6</title>\n<ellipse fill=\"#3498db\" stroke=\"#3498db\" cx=\"34\" cy=\"-237\" rx=\"18\" ry=\"18\"/>\n<text text-anchor=\"middle\" x=\"34\" y=\"-233.3\" font-family=\"Times,serif\" font-size=\"14.00\" fill=\"#3498db\">6</text>\n</g>\n<!-- 1&#45;&gt;6 -->\n<g id=\"edge7\" class=\"edge\">\n<title>1&#45;&gt;6</title>\n<path fill=\"none\" stroke=\"#707070\" d=\"M236.1596,-405.4664C197.2387,-373.0323 87.1251,-281.2709 48.0046,-248.6705\"/>\n</g>\n<!-- 2 -->\n<g id=\"node2\" class=\"node\">\n<title>2</title>\n<ellipse fill=\"#2ecc71\" stroke=\"#2ecc71\" cx=\"142\" cy=\"-417\" rx=\"18\" ry=\"18\"/>\n<text text-anchor=\"middle\" x=\"142\" y=\"-413.3\" font-family=\"Times,serif\" font-size=\"14.00\" fill=\"#2ecc71\">2</text>\n</g>\n<!-- 2&#45;&gt;3 -->\n<g id=\"edge2\" class=\"edge\">\n<title>2&#45;&gt;3</title>\n<path fill=\"none\" stroke=\"#707070\" d=\"M155.8404,-405.4664C194.7613,-373.0323 304.8749,-281.2709 343.9954,-248.6705\"/>\n</g>\n<!-- 2&#45;&gt;4 -->\n<g id=\"edge4\" class=\"edge\">\n<title>2&#45;&gt;4</title>\n<path fill=\"none\" stroke=\"#707070\" d=\"M151.3954,-401.3411C171.872,-367.2134 220.3168,-286.472 240.7033,-252.4946\"/>\n</g>\n<!-- 2&#45;&gt;5 -->\n<g id=\"edge6\" class=\"edge\">\n<title>2&#45;&gt;5</title>\n<path fill=\"none\" stroke=\"#707070\" d=\"M142,-398.7501C142,-364.161 142,-289.4493 142,-255.0306\"/>\n</g>\n<!-- 2&#45;&gt;6 -->\n<g id=\"edge8\" class=\"edge\">\n<title>2&#45;&gt;6</title>\n<path fill=\"none\" stroke=\"#707070\" d=\"M132.6046,-401.3411C112.128,-367.2134 63.6832,-286.472 43.2967,-252.4946\"/>\n</g>\n<!-- 7 -->\n<g id=\"node7\" class=\"node\">\n<title>7</title>\n<ellipse fill=\"#e74c3c\" stroke=\"#e74c3c\" cx=\"196\" cy=\"-57\" rx=\"18\" ry=\"18\"/>\n<text text-anchor=\"middle\" x=\"196\" y=\"-53.3\" font-family=\"Times,serif\" font-size=\"14.00\" fill=\"#e74c3c\">7</text>\n</g>\n<!-- 3&#45;&gt;7 -->\n<g id=\"edge9\" class=\"edge\">\n<title>3&#45;&gt;7</title>\n<path fill=\"none\" stroke=\"#707070\" d=\"M345.8237,-223.4707C315.8014,-190.1127 238.4876,-104.2085 208.3176,-70.6863\"/>\n</g>\n<!-- 4&#45;&gt;7 -->\n<g id=\"edge10\" class=\"edge\">\n<title>4&#45;&gt;7</title>\n<path fill=\"none\" stroke=\"#707070\" d=\"M244.8223,-219.7408C234.527,-185.4235 211.5885,-108.9617 201.2414,-74.4714\"/>\n</g>\n<!-- 5&#45;&gt;7 -->\n<g id=\"edge11\" class=\"edge\">\n<title>5&#45;&gt;7</title>\n<path fill=\"none\" stroke=\"#707070\" d=\"M147.1777,-219.7408C157.473,-185.4235 180.4115,-108.9617 190.7586,-74.4714\"/>\n</g>\n<!-- 6&#45;&gt;7 -->\n<g id=\"edge12\" class=\"edge\">\n<title>6&#45;&gt;7</title>\n<path fill=\"none\" stroke=\"#707070\" d=\"M46.1763,-223.4707C76.1986,-190.1127 153.5124,-104.2085 183.6824,-70.6863\"/>\n</g>\n</g>\n</svg>\n"
          },
          "metadata": {},
          "execution_count": 10
        }
      ]
    },
    {
      "cell_type": "code",
      "source": [
        "graph_source"
      ],
      "metadata": {
        "colab": {
          "base_uri": "https://localhost:8080/",
          "height": 748
        },
        "id": "xkJ3vHg6Wkh_",
        "outputId": "2cbeea99-5643-4484-d9a2-ed3f149e98f7"
      },
      "execution_count": null,
      "outputs": [
        {
          "output_type": "execute_result",
          "data": {
            "text/plain": [
              "<graphviz.files.Source at 0x7f969e55a1d0>"
            ],
            "image/svg+xml": "<?xml version=\"1.0\" encoding=\"UTF-8\" standalone=\"no\"?>\n<!DOCTYPE svg PUBLIC \"-//W3C//DTD SVG 1.1//EN\"\n \"http://www.w3.org/Graphics/SVG/1.1/DTD/svg11.dtd\">\n<!-- Generated by graphviz version 2.40.1 (20161225.0304)\n -->\n<!-- Title: g Pages: 1 -->\n<svg width=\"400pt\" height=\"545pt\"\n viewBox=\"0.00 0.00 400.00 545.00\" xmlns=\"http://www.w3.org/2000/svg\" xmlns:xlink=\"http://www.w3.org/1999/xlink\">\n<g id=\"graph0\" class=\"graph\" transform=\"scale(1 1) rotate(0) translate(4 541)\">\n<title>g</title>\n<polygon fill=\"#ffffff\" stroke=\"transparent\" points=\"-4,4 -4,-541 396,-541 396,4 -4,4\"/>\n<g id=\"clust1\" class=\"cluster\">\n<title>cluster_input</title>\n<polygon fill=\"none\" stroke=\"#ffffff\" points=\"116,-391 116,-529 276,-529 276,-391 116,-391\"/>\n<text text-anchor=\"middle\" x=\"196\" y=\"-513.8\" font-family=\"Times,serif\" font-size=\"14.00\" fill=\"#000000\">Simple XOR Classifier</text>\n<text text-anchor=\"middle\" x=\"196\" y=\"-450.8\" font-family=\"Times,serif\" font-size=\"14.00\" fill=\"#000000\">Input Layer</text>\n</g>\n<g id=\"clust2\" class=\"cluster\">\n<title>cluster_1</title>\n<polygon fill=\"none\" stroke=\"#ffffff\" points=\"8,-211 8,-263 384,-263 384,-211 8,-211\"/>\n</g>\n<g id=\"clust3\" class=\"cluster\">\n<title>cluster_output</title>\n<polygon fill=\"none\" stroke=\"#ffffff\" points=\"149,-8 149,-83 243,-83 243,-8 149,-8\"/>\n<text text-anchor=\"middle\" x=\"196\" y=\"-15.8\" font-family=\"Times,serif\" font-size=\"14.00\" fill=\"#000000\">Output Layer</text>\n</g>\n<!-- 1 -->\n<g id=\"node1\" class=\"node\">\n<title>1</title>\n<ellipse fill=\"#2ecc71\" stroke=\"#2ecc71\" cx=\"250\" cy=\"-417\" rx=\"18\" ry=\"18\"/>\n<text text-anchor=\"middle\" x=\"250\" y=\"-413.3\" font-family=\"Times,serif\" font-size=\"14.00\" fill=\"#2ecc71\">1</text>\n</g>\n<!-- 3 -->\n<g id=\"node3\" class=\"node\">\n<title>3</title>\n<ellipse fill=\"#3498db\" stroke=\"#3498db\" cx=\"358\" cy=\"-237\" rx=\"18\" ry=\"18\"/>\n<text text-anchor=\"middle\" x=\"358\" y=\"-233.3\" font-family=\"Times,serif\" font-size=\"14.00\" fill=\"#3498db\">3</text>\n</g>\n<!-- 1&#45;&gt;3 -->\n<g id=\"edge1\" class=\"edge\">\n<title>1&#45;&gt;3</title>\n<path fill=\"none\" stroke=\"#707070\" d=\"M259.3954,-401.3411C279.872,-367.2134 328.3168,-286.472 348.7033,-252.4946\"/>\n</g>\n<!-- 4 -->\n<g id=\"node4\" class=\"node\">\n<title>4</title>\n<ellipse fill=\"#3498db\" stroke=\"#3498db\" cx=\"250\" cy=\"-237\" rx=\"18\" ry=\"18\"/>\n<text text-anchor=\"middle\" x=\"250\" y=\"-233.3\" font-family=\"Times,serif\" font-size=\"14.00\" fill=\"#3498db\">4</text>\n</g>\n<!-- 1&#45;&gt;4 -->\n<g id=\"edge3\" class=\"edge\">\n<title>1&#45;&gt;4</title>\n<path fill=\"none\" stroke=\"#707070\" d=\"M250,-398.7501C250,-364.161 250,-289.4493 250,-255.0306\"/>\n</g>\n<!-- 5 -->\n<g id=\"node5\" class=\"node\">\n<title>5</title>\n<ellipse fill=\"#3498db\" stroke=\"#3498db\" cx=\"142\" cy=\"-237\" rx=\"18\" ry=\"18\"/>\n<text text-anchor=\"middle\" x=\"142\" y=\"-233.3\" font-family=\"Times,serif\" font-size=\"14.00\" fill=\"#3498db\">5</text>\n</g>\n<!-- 1&#45;&gt;5 -->\n<g id=\"edge5\" class=\"edge\">\n<title>1&#45;&gt;5</title>\n<path fill=\"none\" stroke=\"#707070\" d=\"M240.6046,-401.3411C220.128,-367.2134 171.6832,-286.472 151.2967,-252.4946\"/>\n</g>\n<!-- 6 -->\n<g id=\"node6\" class=\"node\">\n<title>6</title>\n<ellipse fill=\"#3498db\" stroke=\"#3498db\" cx=\"34\" cy=\"-237\" rx=\"18\" ry=\"18\"/>\n<text text-anchor=\"middle\" x=\"34\" y=\"-233.3\" font-family=\"Times,serif\" font-size=\"14.00\" fill=\"#3498db\">6</text>\n</g>\n<!-- 1&#45;&gt;6 -->\n<g id=\"edge7\" class=\"edge\">\n<title>1&#45;&gt;6</title>\n<path fill=\"none\" stroke=\"#707070\" d=\"M236.1596,-405.4664C197.2387,-373.0323 87.1251,-281.2709 48.0046,-248.6705\"/>\n</g>\n<!-- 2 -->\n<g id=\"node2\" class=\"node\">\n<title>2</title>\n<ellipse fill=\"#2ecc71\" stroke=\"#2ecc71\" cx=\"142\" cy=\"-417\" rx=\"18\" ry=\"18\"/>\n<text text-anchor=\"middle\" x=\"142\" y=\"-413.3\" font-family=\"Times,serif\" font-size=\"14.00\" fill=\"#2ecc71\">2</text>\n</g>\n<!-- 2&#45;&gt;3 -->\n<g id=\"edge2\" class=\"edge\">\n<title>2&#45;&gt;3</title>\n<path fill=\"none\" stroke=\"#707070\" d=\"M155.8404,-405.4664C194.7613,-373.0323 304.8749,-281.2709 343.9954,-248.6705\"/>\n</g>\n<!-- 2&#45;&gt;4 -->\n<g id=\"edge4\" class=\"edge\">\n<title>2&#45;&gt;4</title>\n<path fill=\"none\" stroke=\"#707070\" d=\"M151.3954,-401.3411C171.872,-367.2134 220.3168,-286.472 240.7033,-252.4946\"/>\n</g>\n<!-- 2&#45;&gt;5 -->\n<g id=\"edge6\" class=\"edge\">\n<title>2&#45;&gt;5</title>\n<path fill=\"none\" stroke=\"#707070\" d=\"M142,-398.7501C142,-364.161 142,-289.4493 142,-255.0306\"/>\n</g>\n<!-- 2&#45;&gt;6 -->\n<g id=\"edge8\" class=\"edge\">\n<title>2&#45;&gt;6</title>\n<path fill=\"none\" stroke=\"#707070\" d=\"M132.6046,-401.3411C112.128,-367.2134 63.6832,-286.472 43.2967,-252.4946\"/>\n</g>\n<!-- 7 -->\n<g id=\"node7\" class=\"node\">\n<title>7</title>\n<ellipse fill=\"#e74c3c\" stroke=\"#e74c3c\" cx=\"196\" cy=\"-57\" rx=\"18\" ry=\"18\"/>\n<text text-anchor=\"middle\" x=\"196\" y=\"-53.3\" font-family=\"Times,serif\" font-size=\"14.00\" fill=\"#e74c3c\">7</text>\n</g>\n<!-- 3&#45;&gt;7 -->\n<g id=\"edge9\" class=\"edge\">\n<title>3&#45;&gt;7</title>\n<path fill=\"none\" stroke=\"#707070\" d=\"M345.8237,-223.4707C315.8014,-190.1127 238.4876,-104.2085 208.3176,-70.6863\"/>\n</g>\n<!-- 4&#45;&gt;7 -->\n<g id=\"edge10\" class=\"edge\">\n<title>4&#45;&gt;7</title>\n<path fill=\"none\" stroke=\"#707070\" d=\"M244.8223,-219.7408C234.527,-185.4235 211.5885,-108.9617 201.2414,-74.4714\"/>\n</g>\n<!-- 5&#45;&gt;7 -->\n<g id=\"edge11\" class=\"edge\">\n<title>5&#45;&gt;7</title>\n<path fill=\"none\" stroke=\"#707070\" d=\"M147.1777,-219.7408C157.473,-185.4235 180.4115,-108.9617 190.7586,-74.4714\"/>\n</g>\n<!-- 6&#45;&gt;7 -->\n<g id=\"edge12\" class=\"edge\">\n<title>6&#45;&gt;7</title>\n<path fill=\"none\" stroke=\"#707070\" d=\"M46.1763,-223.4707C76.1986,-190.1127 153.5124,-104.2085 183.6824,-70.6863\"/>\n</g>\n</g>\n</svg>\n"
          },
          "metadata": {},
          "execution_count": 11
        }
      ]
    },
    {
      "cell_type": "code",
      "source": [
        "print(graph_source.source)"
      ],
      "metadata": {
        "colab": {
          "base_uri": "https://localhost:8080/"
        },
        "id": "69q-OU-jWqus",
        "outputId": "f02849ce-6526-4e14-8a5b-07d0080b855a"
      },
      "execution_count": null,
      "outputs": [
        {
          "output_type": "stream",
          "name": "stdout",
          "text": [
            "digraph g {\n",
            "\tgraph [nodesep=1 ranksep=2 splines=false]\n",
            "\tedge [arrowhead=none color=\"#707070\"]\n",
            "\tsubgraph cluster_input {\n",
            "\t\tnode [color=\"#2ecc71\" fontcolor=\"#2ecc71\" shape=circle style=filled]\n",
            "\t\tcolor=white\n",
            "\t\t1\n",
            "\t\tlabel=\"Simple XOR Classifier\n",
            "\n",
            "\n",
            "\n",
            "Input Layer\"\n",
            "\t\trank=same\n",
            "\t\t2\n",
            "\t\tlabel=\"Simple XOR Classifier\n",
            "\n",
            "\n",
            "\n",
            "Input Layer\"\n",
            "\t\trank=same\n",
            "\t}\n",
            "\t1 -> 3\n",
            "\t2 -> 3\n",
            "\t1 -> 4\n",
            "\t2 -> 4\n",
            "\t1 -> 5\n",
            "\t2 -> 5\n",
            "\t1 -> 6\n",
            "\t2 -> 6\n",
            "\tsubgraph cluster_1 {\n",
            "\t\tcolor=white\n",
            "\t\trank=same\n",
            "\t\tlabel=\"\" labeljust=right labelloc=b\n",
            "\t\t3 [color=\"#3498db\" fontcolor=\"#3498db\" shape=circle style=filled]\n",
            "\t\t4 [color=\"#3498db\" fontcolor=\"#3498db\" shape=circle style=filled]\n",
            "\t\t5 [color=\"#3498db\" fontcolor=\"#3498db\" shape=circle style=filled]\n",
            "\t\t6 [color=\"#3498db\" fontcolor=\"#3498db\" shape=circle style=filled]\n",
            "\t}\n",
            "\t3 -> 7\n",
            "\t4 -> 7\n",
            "\t5 -> 7\n",
            "\t6 -> 7\n",
            "\tsubgraph cluster_output {\n",
            "\t\tnode [color=\"#2ecc71\" fontcolor=\"#2ecc71\" shape=circle style=filled]\n",
            "\t\tcolor=white\n",
            "\t\trank=same\n",
            "\t\tlabeljust=1\n",
            "\t\t7 [color=\"#e74c3c\" fontcolor=\"#e74c3c\" shape=circle style=filled]\n",
            "\t\tlabel=\"Output Layer\" labelloc=bottom\n",
            "\t}\n",
            "\tarrowShape=none\n",
            "}\n",
            "\n"
          ]
        }
      ]
    },
    {
      "cell_type": "code",
      "source": [
        "model.get_weights()"
      ],
      "metadata": {
        "id": "jTBrZbljWtar",
        "outputId": "67c6921a-da0d-4161-9882-cb8a513d1e97",
        "colab": {
          "base_uri": "https://localhost:8080/"
        }
      },
      "execution_count": null,
      "outputs": [
        {
          "output_type": "execute_result",
          "data": {
            "text/plain": [
              "[array([[-0.85320425, -0.7355623 ,  0.3357272 , -0.3104987 ],\n",
              "        [ 0.5161514 ,  0.07912779, -0.9360006 ,  0.32568574]],\n",
              "       dtype=float32),\n",
              " array([0., 0., 0., 0.], dtype=float32),\n",
              " array([[ 0.7501652 ],\n",
              "        [-0.15210825],\n",
              "        [-0.52283657],\n",
              "        [ 0.02772415]], dtype=float32),\n",
              " array([0.], dtype=float32)]"
            ]
          },
          "metadata": {},
          "execution_count": 13
        }
      ]
    },
    {
      "cell_type": "code",
      "source": [],
      "metadata": {
        "id": "cG7Xj-4nWv4K"
      },
      "execution_count": null,
      "outputs": []
    }
  ]
}